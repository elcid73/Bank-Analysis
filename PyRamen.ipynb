{
 "cells": [
  {
   "cell_type": "code",
   "execution_count": null,
   "id": "c5b1882e-6488-4829-befa-30544467e453",
   "metadata": {},
   "outputs": [],
   "source": [
    "import csv\n",
    "from pathlib import Path\n",
    "menu = []\n",
    "sales = []\n",
    "menu_filepath = Path('menu_data.csv')\n",
    "sales_filepath = Path('sales_data.csv')"
   ]
  },
  {
   "cell_type": "code",
   "execution_count": null,
   "id": "cb2dac8b-a5b7-42c2-ba8d-037527dc425f",
   "metadata": {},
   "outputs": [],
   "source": [
    "#Initializing list objects to hold our menu and sales data\n",
    "with open(menu_filepath, 'r') as csvfile:\n",
    "\n",
    "    menus = csv.reader(csvfile, delimiter=',')\n",
    "    header = next(menus)\n",
    "    \n",
    "    for i in menus:\n",
    "        menu.append(i)\n",
    "        \n",
    "with open(sales_filepath, 'r') as csvfile1:\n",
    "\n",
    "    sale = csv.reader(csvfile1, delimiter=',')\n",
    "    header = next(sale)\n",
    "    \n",
    "    for i in sale:\n",
    "        sales.append(i)       "
   ]
  },
  {
   "cell_type": "code",
   "execution_count": null,
   "id": "5e40fd80-5885-451b-b37e-1cbcb4812409",
   "metadata": {},
   "outputs": [],
   "source": [
    "#Initializing report    \n",
    "report = {}\n",
    "\n",
    "# Initializing variables\n",
    "row_count = 0\n",
    "count = 0\n",
    "account = 0\n",
    "unique_menu = []\n",
    "menu1 = []"
   ]
  },
  {
   "cell_type": "code",
   "execution_count": null,
   "id": "ced58fc5-b8d4-4ebe-b914-7bb485adb0a7",
   "metadata": {},
   "outputs": [],
   "source": [
    "#list of unique menu item from sales data\n",
    "for i in sales:\n",
    "    if i[4] not in unique_menu:\n",
    "        unique_menu.append(i[4])\n"
   ]
  },
  {
   "cell_type": "code",
   "execution_count": null,
   "id": "39e43400-d63c-47ae-a5c7-fada8c8de8af",
   "metadata": {},
   "outputs": [],
   "source": [
    "# creates subset of only items from menu data that apper in sales data\n",
    "for each_row in menu:\n",
    "    if each_row[0] in unique_menu:\n",
    "        menu1.append(each_row)"
   ]
  },
  {
   "cell_type": "code",
   "execution_count": null,
   "id": "16f5c204-b1fe-427c-96d4-aecb81b498c5",
   "metadata": {},
   "outputs": [],
   "source": [
    "#Initiates and populates report dictionary\n",
    "for menu_item in menu1:\n",
    "    for i in sales:\n",
    "        if menu_item[0] not in report.keys():\n",
    "            count = i[3]\n",
    "            account = menu_item[0]\n",
    "            report[menu_item[0]] = {\"01 - count\" : int(i[3]), \"02 - revenue\" : int(i[3])*int(menu_item[3]), \"03 - cogs\" : int(i[3])*int(menu_item[4]), \"04 - profit\" : int(i[3])*int(menu_item[3])-int(i[3])*int(menu_item[4])}\n",
    "        else:    \n",
    "            report[menu_item[0]][\"01 - count\"] += int(i[3])\n",
    "            report[menu_item[0]][\"02 - revenue\"] += int(i[3])*int(menu_item[3])\n",
    "            report[menu_item[0]][\"03 - cogs\"] += int(i[3])*int(menu_item[4])\n",
    "            report[menu_item[0]][\"04 - profit\"] += (int(i[3])*int(menu_item[3])-int(i[3])*int(menu_item[4]))\n"
   ]
  },
  {
   "cell_type": "code",
   "execution_count": null,
   "id": "dafcbbb0-05c0-491c-9fd3-065d8f1e6572",
   "metadata": {},
   "outputs": [],
   "source": [
    "#Prints report dict into .csv file\n",
    "output_path = Path(\"report.csv\")\n",
    "\n",
    "with open(\"report.csv\", \"w\") as outfile:\n",
    "    writer = csv.writer(outfile)\n",
    "    writer.writerows(report) \n",
    "   "
   ]
  },
  {
   "cell_type": "code",
   "execution_count": null,
   "id": "e1e3de57-ab4b-48d7-a407-9717c02b9e7d",
   "metadata": {},
   "outputs": [],
   "source": []
  }
 ],
 "metadata": {
  "kernelspec": {
   "display_name": "Python 3 (ipykernel)",
   "language": "python",
   "name": "python3"
  },
  "language_info": {
   "codemirror_mode": {
    "name": "ipython",
    "version": 3
   },
   "file_extension": ".py",
   "mimetype": "text/x-python",
   "name": "python",
   "nbconvert_exporter": "python",
   "pygments_lexer": "ipython3",
   "version": "3.10.9"
  }
 },
 "nbformat": 4,
 "nbformat_minor": 5
}
