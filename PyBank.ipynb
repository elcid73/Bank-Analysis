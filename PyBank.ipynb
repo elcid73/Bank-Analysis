{
 "cells": [
  {
   "cell_type": "code",
   "execution_count": 1,
   "id": "c55cd507-a0db-422f-a1f3-c02011498df5",
   "metadata": {},
   "outputs": [],
   "source": [
    "from pathlib import Path\n",
    "import csv\n",
    "# Setting the file path\n",
    "csvpath = Path('budget_data.csv')\n"
   ]
  },
  {
   "cell_type": "code",
   "execution_count": 2,
   "id": "2cb1e3a5-82f7-45d3-b5ea-3192894cbf0a",
   "metadata": {},
   "outputs": [],
   "source": [
    "# Initializing variables\n",
    "line_num = 0\n",
    "month = 0\n",
    "total = 0\n",
    "total_old = 0\n",
    "change = 0\n",
    "changes = []\n",
    "dates = []\n",
    "date = 0\n"
   ]
  },
  {
   "cell_type": "code",
   "execution_count": null,
   "id": "a5631622-9adf-415d-90e9-c731348b0dd4",
   "metadata": {},
   "outputs": [],
   "source": [
    "#reading from input file\n",
    "with open(csvpath, 'r') as csvfile:\n",
    "\n",
    "    csvreader = csv.reader(csvfile, delimiter=',')\n",
    "    header = next(csvreader)\n",
    "  \n",
    "    \n",
    "    for row in csvreader:\n",
    "        date = row[0]\n",
    "        month += 1                        #calculates number of months\n",
    "        total += int(row[1])              #calculates total $$\n",
    "        change = int(row[1]) - total_old  #calculates monthly changes\n",
    "        total_old = int(row[1])\n",
    "        dates.append(date)                #Creates dates list\n",
    "        changes.append(change)            #Creates monthly changes"
   ]
  },
  {
   "cell_type": "code",
   "execution_count": null,
   "id": "f4043acb-3d23-4756-94e9-659d1900d023",
   "metadata": {},
   "outputs": [],
   "source": [
    "summary=dict(zip(dates,changes))          #Creates dictionary of months and monthly changes\n",
    "    \n",
    "summary.pop('Jan-2010')                   #Takes out the first month\n",
    "\n",
    "\n",
    "tot_change = 0\n",
    "count = 0\n",
    "greatest_icrease = 0\n",
    "greatest_decrease = 0\n",
    "\n",
    "if greatest_decrease == 0:\n",
    "        greatest_decrease = summary[i]\n",
    "        date_decrease = i\n",
    "   elif summary[i] > greatest_icrease:  #Determines highest change increase and date\n",
    "        greatest_icrease = summary[i]\n",
    "        date_increase = i\n",
    "   elif summary[i] < greatest_decrease: #Determines lowest change increase and date\n",
    "        greatest_decrease = summary[i] \n",
    "        date_decrease = i"
   ]
  },
  {
   "cell_type": "code",
   "execution_count": null,
   "id": "412a2520-9f7a-4e75-9c48-cf2ef48db9b7",
   "metadata": {},
   "outputs": [],
   "source": [
    "print()\n",
    "print('Financial Analysis')\n",
    "print()\n",
    "print('----------------------------------') \n",
    "print()\n",
    "print('Total Months:',month) \n",
    "print('Total: $',total)\n",
    "print('Average Change: $', format(tot_change/count,\".2f\"))\n",
    "print('Greatest Increase in Profits:', date_increase, '$(', greatest_icrease, ')')\n",
    "print('Greatest Decrease in Profits:', date_decrease, '$(', greatest_decrease,')')"
   ]
  },
  {
   "cell_type": "code",
   "execution_count": null,
   "id": "e982fae9-9820-4324-bd76-35f054a4ffd5",
   "metadata": {},
   "outputs": [],
   "source": []
  },
  {
   "cell_type": "code",
   "execution_count": null,
   "id": "48fdb37f-8877-41f9-899b-e6d621e354ee",
   "metadata": {},
   "outputs": [],
   "source": []
  },
  {
   "cell_type": "code",
   "execution_count": null,
   "id": "8c993336-64a1-40f6-b438-0fdecde7a636",
   "metadata": {},
   "outputs": [],
   "source": []
  },
  {
   "cell_type": "code",
   "execution_count": null,
   "id": "e91feb99-a8cf-4583-9d2b-783e6541cd31",
   "metadata": {},
   "outputs": [],
   "source": []
  }
 ],
 "metadata": {
  "kernelspec": {
   "display_name": "Python 3 (ipykernel)",
   "language": "python",
   "name": "python3"
  },
  "language_info": {
   "codemirror_mode": {
    "name": "ipython",
    "version": 3
   },
   "file_extension": ".py",
   "mimetype": "text/x-python",
   "name": "python",
   "nbconvert_exporter": "python",
   "pygments_lexer": "ipython3",
   "version": "3.10.9"
  }
 },
 "nbformat": 4,
 "nbformat_minor": 5
}
