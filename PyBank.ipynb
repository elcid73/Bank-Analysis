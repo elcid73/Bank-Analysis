{
 "cells": [
  {
   "cell_type": "code",
   "execution_count": 1,
   "id": "c55cd507-a0db-422f-a1f3-c02011498df5",
   "metadata": {},
   "outputs": [],
   "source": [
    "from pathlib import Path\n",
    "import csv\n",
    "# Setting the file path\n",
    "csvpath = Path('budget_data.csv')\n"
   ]
  },
  {
   "cell_type": "code",
   "execution_count": 2,
   "id": "2cb1e3a5-82f7-45d3-b5ea-3192894cbf0a",
   "metadata": {},
   "outputs": [],
   "source": [
    "# Initializing variables\n",
    "line_num = 0\n",
    "month = 0\n",
    "total = 0\n",
    "total_old = 0\n",
    "change = 0\n",
    "changes = []\n",
    "dates = []\n",
    "date = 0\n"
   ]
  },
  {
   "cell_type": "code",
   "execution_count": 3,
   "id": "6745a685-c4cc-4a21-9860-05f24a7f534f",
   "metadata": {},
   "outputs": [
    {
     "ename": "FileNotFoundError",
     "evalue": "[Errno 2] No such file or directory: './budget_data.csv'",
     "output_type": "error",
     "traceback": [
      "\u001b[1;31m---------------------------------------------------------------------------\u001b[0m",
      "\u001b[1;31mFileNotFoundError\u001b[0m                         Traceback (most recent call last)",
      "Cell \u001b[1;32mIn[3], line 2\u001b[0m\n\u001b[0;32m      1\u001b[0m \u001b[38;5;66;03m#reading from input file\u001b[39;00m\n\u001b[1;32m----> 2\u001b[0m \u001b[38;5;28;01mwith\u001b[39;00m \u001b[38;5;28;43mopen\u001b[39;49m\u001b[43m(\u001b[49m\u001b[38;5;124;43m'\u001b[39;49m\u001b[38;5;124;43m./budget_data.csv\u001b[39;49m\u001b[38;5;124;43m'\u001b[39;49m\u001b[43m)\u001b[49m \u001b[38;5;28;01mas\u001b[39;00m csvfile:\n\u001b[0;32m      4\u001b[0m     csvreader \u001b[38;5;241m=\u001b[39m csv\u001b[38;5;241m.\u001b[39mreader(csvfile, delimiter\u001b[38;5;241m=\u001b[39m\u001b[38;5;124m'\u001b[39m\u001b[38;5;124m,\u001b[39m\u001b[38;5;124m'\u001b[39m)\n\u001b[0;32m      5\u001b[0m     header \u001b[38;5;241m=\u001b[39m \u001b[38;5;28mnext\u001b[39m(csvreader)\n",
      "File \u001b[1;32m~\\anaconda3\\lib\\site-packages\\IPython\\core\\interactiveshell.py:282\u001b[0m, in \u001b[0;36m_modified_open\u001b[1;34m(file, *args, **kwargs)\u001b[0m\n\u001b[0;32m    275\u001b[0m \u001b[38;5;28;01mif\u001b[39;00m file \u001b[38;5;129;01min\u001b[39;00m {\u001b[38;5;241m0\u001b[39m, \u001b[38;5;241m1\u001b[39m, \u001b[38;5;241m2\u001b[39m}:\n\u001b[0;32m    276\u001b[0m     \u001b[38;5;28;01mraise\u001b[39;00m \u001b[38;5;167;01mValueError\u001b[39;00m(\n\u001b[0;32m    277\u001b[0m         \u001b[38;5;124mf\u001b[39m\u001b[38;5;124m\"\u001b[39m\u001b[38;5;124mIPython won\u001b[39m\u001b[38;5;124m'\u001b[39m\u001b[38;5;124mt let you open fd=\u001b[39m\u001b[38;5;132;01m{\u001b[39;00mfile\u001b[38;5;132;01m}\u001b[39;00m\u001b[38;5;124m by default \u001b[39m\u001b[38;5;124m\"\u001b[39m\n\u001b[0;32m    278\u001b[0m         \u001b[38;5;124m\"\u001b[39m\u001b[38;5;124mas it is likely to crash IPython. If you know what you are doing, \u001b[39m\u001b[38;5;124m\"\u001b[39m\n\u001b[0;32m    279\u001b[0m         \u001b[38;5;124m\"\u001b[39m\u001b[38;5;124myou can use builtins\u001b[39m\u001b[38;5;124m'\u001b[39m\u001b[38;5;124m open.\u001b[39m\u001b[38;5;124m\"\u001b[39m\n\u001b[0;32m    280\u001b[0m     )\n\u001b[1;32m--> 282\u001b[0m \u001b[38;5;28;01mreturn\u001b[39;00m io_open(file, \u001b[38;5;241m*\u001b[39margs, \u001b[38;5;241m*\u001b[39m\u001b[38;5;241m*\u001b[39mkwargs)\n",
      "\u001b[1;31mFileNotFoundError\u001b[0m: [Errno 2] No such file or directory: './budget_data.csv'"
     ]
    }
   ],
   "source": [
    "#reading from input file\n",
    "with open('./budget_data.csv') as csvfile:\n",
    "\n",
    "    csvreader = csv.reader(csvfile, delimiter=',')\n",
    "    header = next(csvreader)\n",
    "  \n",
    "    \n",
    "    for row in csvreader:\n",
    "        date = row[0]\n",
    "        month += 1\n",
    "        total += int(row[1])\n",
    "        change = int(row[1]) - total_old\n",
    "        total_old = int(row[1])\n",
    "        dates.append(date)\n",
    "        changes.append(change)\n",
    "        "
   ]
  },
  {
   "cell_type": "code",
   "execution_count": null,
   "id": "f4043acb-3d23-4756-94e9-659d1900d023",
   "metadata": {},
   "outputs": [],
   "source": [
    "summary=dict(zip(dates,changes))          #Creates dictionary of months and monthly changes\n",
    "    \n",
    "summary.pop('Jan-2010')                   #Takes out the first month\n",
    "\n",
    "\n",
    "tot_change = 0\n",
    "count = 0\n",
    "greatest_icrease = 0\n",
    "greatest_decrease = 0\n",
    "\n",
    "if greatest_decrease == 0:\n",
    "        greatest_decrease = summary[i]\n",
    "        date_decrease = i\n",
    "   elif summary[i] > greatest_icrease:  #Determines highest change increase and date\n",
    "        greatest_icrease = summary[i]\n",
    "        date_increase = i\n",
    "   elif summary[i] < greatest_decrease: #Determines lowest change increase and date\n",
    "        greatest_decrease = summary[i] \n",
    "        date_decrease = i"
   ]
  },
  {
   "cell_type": "code",
   "execution_count": null,
   "id": "412a2520-9f7a-4e75-9c48-cf2ef48db9b7",
   "metadata": {},
   "outputs": [],
   "source": [
    "print()\n",
    "print('Financial Analysis')\n",
    "print()\n",
    "print('----------------------------------') \n",
    "print()\n",
    "print('Total Months:',month) \n",
    "print('Total: $',total)\n",
    "print('Average Change: $', format(tot_change/count,\".2f\"))\n",
    "print('Greatest Increase in Profits:', date_increase, '$(', greatest_icrease, ')')\n",
    "print('Greatest Decrease in Profits:', date_decrease, '$(', greatest_decrease,')')"
   ]
  },
  {
   "cell_type": "code",
   "execution_count": null,
   "id": "e982fae9-9820-4324-bd76-35f054a4ffd5",
   "metadata": {},
   "outputs": [],
   "source": []
  },
  {
   "cell_type": "code",
   "execution_count": null,
   "id": "48fdb37f-8877-41f9-899b-e6d621e354ee",
   "metadata": {},
   "outputs": [],
   "source": []
  },
  {
   "cell_type": "code",
   "execution_count": null,
   "id": "8c993336-64a1-40f6-b438-0fdecde7a636",
   "metadata": {},
   "outputs": [],
   "source": []
  },
  {
   "cell_type": "code",
   "execution_count": null,
   "id": "e91feb99-a8cf-4583-9d2b-783e6541cd31",
   "metadata": {},
   "outputs": [],
   "source": []
  }
 ],
 "metadata": {
  "kernelspec": {
   "display_name": "Python 3 (ipykernel)",
   "language": "python",
   "name": "python3"
  },
  "language_info": {
   "codemirror_mode": {
    "name": "ipython",
    "version": 3
   },
   "file_extension": ".py",
   "mimetype": "text/x-python",
   "name": "python",
   "nbconvert_exporter": "python",
   "pygments_lexer": "ipython3",
   "version": "3.10.9"
  }
 },
 "nbformat": 4,
 "nbformat_minor": 5
}
